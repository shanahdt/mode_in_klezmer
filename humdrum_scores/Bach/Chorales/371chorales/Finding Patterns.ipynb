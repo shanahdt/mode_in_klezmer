{
 "cells": [
  {
   "cell_type": "markdown",
   "metadata": {},
   "source": [
    "# Creating a DataFrame"
   ]
  },
  {
   "cell_type": "markdown",
   "metadata": {},
   "source": [
    "Today, it'd be worth discussing a few points regarding how we might turn these cool things we're learning into something that can be placed into your data analysis software of your choice (R, Python, R, Matlab, or R). We will also talk about a few other important tools today that will help, such as:\n",
    "\n",
    "* patt\n",
    "* pattern\n",
    "* yank\n",
    "* assemble\n",
    "* cleave"
   ]
  },
  {
   "cell_type": "markdown",
   "metadata": {},
   "source": [
    "##  Our First Question: La-Sol-Fi-Sol\n",
    "\n",
    "Here, we might ask a rather silly question: *How often does the la-sol-fi-sol motive (as discussed in Byros, 2009) occur in the Bach Chorales (those old chestnuts)*??\n"
   ]
  },
  {
   "cell_type": "code",
   "execution_count": 3,
   "metadata": {
    "collapsed": false
   },
   "outputs": [
    {
     "name": "stdout",
     "output_type": "stream",
     "text": [
      "solfa: ERROR: Cannot process pitches without key information.\n",
      "solfa: ERROR: Cannot process pitches without key information.\n",
      "solfa: ERROR: Cannot process pitches without key information.\n",
      "solfa: ERROR: Cannot process pitches without key information.\n",
      "solfa: ERROR: Cannot process pitches without key information.\n",
      "solfa: ERROR: Cannot process pitches without key information.\n",
      "solfa: ERROR: Cannot process pitches without key information.\n",
      "solfa: ERROR: Cannot process pitches without key information.\n",
      "solfa: ERROR: Cannot process pitches without key information.\n",
      "solfa: ERROR: Cannot process pitches without key information.\n",
      "solfa: ERROR: Cannot process pitches without key information.\n",
      "solfa: ERROR: Cannot process pitches without key information.\n",
      "solfa: ERROR: Cannot process pitches without key information.\n",
      "solfa: ERROR: Cannot process pitches without key information.\n",
      "solfa: ERROR: Cannot process pitches without key information.\n",
      "solfa: ERROR: Cannot process pitches without key information.\n",
      "solfa: ERROR: Cannot process pitches without key information.\n",
      "solfa: ERROR: Cannot process pitches without key information.\n",
      "solfa: ERROR: Cannot process pitches without key information.\n",
      "solfa: ERROR: Cannot process pitches without key information.\n",
      "solfa: ERROR: Cannot process pitches without key information.\n",
      "solfa: ERROR: Cannot process pitches without key information.\n",
      "solfa: ERROR: Cannot process pitches without key information.\n",
      "solfa: ERROR: Cannot process pitches without key information.\n",
      "solfa: ERROR: Cannot process pitches without key information.\n",
      "solfa: ERROR: Cannot process pitches without key information.\n",
      "solfa: ERROR: Cannot process pitches without key information.\n",
      "solfa: ERROR: Cannot process pitches without key information.\n",
      "solfa: ERROR: Cannot process pitches without key information.\n",
      "solfa: ERROR: Cannot process pitches without key information.\n",
      "solfa: ERROR: Cannot process pitches without key information.\n",
      "solfa: ERROR: Cannot process pitches without key information.\n",
      "solfa: ERROR: Cannot process pitches without key information.\n",
      "solfa: ERROR: Cannot process pitches without key information.\n",
      "solfa: ERROR: Cannot process pitches without key information.\n",
      "solfa: ERROR: Cannot process pitches without key information.\n",
      "solfa: ERROR: Cannot process pitches without key information.\n",
      "solfa: ERROR: Cannot process pitches without key information.\n",
      "solfa: ERROR: Cannot process pitches without key information.\n",
      "solfa: ERROR: Cannot process pitches without key information.\n",
      "solfa: ERROR: Cannot process pitches without key information.\n",
      "solfa: ERROR: Cannot process pitches without key information.\n",
      "solfa: ERROR: Cannot process pitches without key information.\n",
      "solfa: ERROR: Cannot process pitches without key information.\n",
      "solfa: ERROR: Cannot process pitches without key information.\n",
      "solfa: ERROR: Cannot process pitches without key information.\n",
      "solfa: ERROR: Cannot process pitches without key information.\n"
     ]
    }
   ],
   "source": [
    "for file in *.krn\n",
    "    do\n",
    "    solfa -x $file > $file.solfa\n",
    "    done"
   ]
  },
  {
   "cell_type": "code",
   "execution_count": null,
   "metadata": {
    "collapsed": true
   },
   "outputs": [],
   "source": []
  },
  {
   "cell_type": "markdown",
   "metadata": {
    "collapsed": true
   },
   "source": [
    "### Step #1: Create a pattern file.\n",
    "\n",
    "Our first step would be to use the **patt** tool to find any specific patterns. There are a few ways to do this, but my favorite way is to create a file that lists specific pattern, and then to use **patt -f** to search for that template in a file."
   ]
  },
  {
   "cell_type": "code",
   "execution_count": null,
   "metadata": {
    "collapsed": true
   },
   "outputs": [],
   "source": []
  }
 ],
 "metadata": {
  "kernelspec": {
   "display_name": "Bash",
   "language": "bash",
   "name": "bash"
  },
  "language_info": {
   "codemirror_mode": "shell",
   "file_extension": ".sh",
   "mimetype": "text/x-sh",
   "name": "bash"
  }
 },
 "nbformat": 4,
 "nbformat_minor": 2
}
